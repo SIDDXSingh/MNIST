{
  "nbformat": 4,
  "nbformat_minor": 0,
  "metadata": {
    "colab": {
      "name": "Mnist_New.ipynb",
      "provenance": [],
      "collapsed_sections": [],
      "include_colab_link": true
    },
    "kernelspec": {
      "name": "python3",
      "display_name": "Python 3"
    }
  },
  "cells": [
    {
      "cell_type": "markdown",
      "metadata": {
        "id": "view-in-github",
        "colab_type": "text"
      },
      "source": [
        "<a href=\"https://colab.research.google.com/github/SIDDXSingh/MNIST/blob/main/Mnist_New.ipynb\" target=\"_parent\"><img src=\"https://colab.research.google.com/assets/colab-badge.svg\" alt=\"Open In Colab\"/></a>"
      ]
    },
    {
      "cell_type": "code",
      "metadata": {
        "id": "uz9kFgvRKmD5",
        "colab": {
          "base_uri": "https://localhost:8080/"
        },
        "outputId": "5fb0d425-0382-462f-d6a2-68600fc766da"
      },
      "source": [
        "pip install idx2numpy"
      ],
      "execution_count": null,
      "outputs": [
        {
          "output_type": "stream",
          "text": [
            "Requirement already satisfied: idx2numpy in /usr/local/lib/python3.6/dist-packages (1.2.3)\n",
            "Requirement already satisfied: six in /usr/local/lib/python3.6/dist-packages (from idx2numpy) (1.15.0)\n",
            "Requirement already satisfied: numpy in /usr/local/lib/python3.6/dist-packages (from idx2numpy) (1.19.4)\n"
          ],
          "name": "stdout"
        }
      ]
    },
    {
      "cell_type": "code",
      "metadata": {
        "colab": {
          "base_uri": "https://localhost:8080/"
        },
        "id": "mjNkvw3Oq4tj",
        "outputId": "beaa3be1-078e-4cbe-fa44-dd39b765bc25"
      },
      "source": [
        "from google.colab import drive\n",
        "drive.mount('/content/drive')"
      ],
      "execution_count": null,
      "outputs": [
        {
          "output_type": "stream",
          "text": [
            "Mounted at /content/drive\n"
          ],
          "name": "stdout"
        }
      ]
    },
    {
      "cell_type": "code",
      "metadata": {
        "id": "aPoH30WrRyZg",
        "colab": {
          "base_uri": "https://localhost:8080/",
          "height": 228
        },
        "outputId": "beaa55a6-7654-430f-832d-e2e46f50950f"
      },
      "source": [
        "import numpy as np\n",
        "import idx2numpy as idx\n",
        "from matplotlib import pyplot as plt\n",
        "from matplotlib.animation import FuncAnimation\n",
        "import pandas as pd\n",
        "\n",
        "\n",
        "a=pd.read_csv()\n",
        "trainX = idx.convert_from_file('/content/drive/MyDrive/ML/train-images.idx3-ubyte')\n",
        "trainY= idx.convert_from_file('/content/drive/MyDrive/ML/train-labels.idx1-ubyte')\n",
        "trainY=trainY.reshape((1,trainY.shape[0]))\n",
        "\n",
        "testY= idx.convert_from_file('/content/drive/MyDrive/ML/t10k-labels.idx1-ubyte')\n",
        "testX=idx.convert_from_file('/content/drive/MyDrive/ML/t10k-images.idx3-ubyte')\n",
        "testY=testY.reshape((1,testY.shape[0]))\n",
        "\n",
        "\n",
        "\n",
        "n_testX = testX.shape[0]\n",
        "n_trainX= trainX.shape[0]\n",
        "n_testY=  testY.shape[0]\n",
        "n_trainY= trainY.shape\n",
        "\n",
        "Y=np.zeros((10,trainY.shape[1]))\n",
        "Y[trainY[0,:],np.arange(trainY.shape[1])]=1\n",
        "\n",
        "Y_test = np.zeros((10,testY.shape[1]))\n",
        "Y_test[testY[0,:],np.arange(testY.shape[1])]=1\n",
        "\n",
        "\n",
        "print(Y.shape[1])"
      ],
      "execution_count": null,
      "outputs": [
        {
          "output_type": "error",
          "ename": "TypeError",
          "evalue": "ignored",
          "traceback": [
            "\u001b[0;31m---------------------------------------------------------------------------\u001b[0m",
            "\u001b[0;31mTypeError\u001b[0m                                 Traceback (most recent call last)",
            "\u001b[0;32m<ipython-input-6-85ae25cff781>\u001b[0m in \u001b[0;36m<module>\u001b[0;34m()\u001b[0m\n\u001b[1;32m      6\u001b[0m \u001b[0;34m\u001b[0m\u001b[0m\n\u001b[1;32m      7\u001b[0m \u001b[0;34m\u001b[0m\u001b[0m\n\u001b[0;32m----> 8\u001b[0;31m \u001b[0ma\u001b[0m\u001b[0;34m=\u001b[0m\u001b[0mpd\u001b[0m\u001b[0;34m.\u001b[0m\u001b[0mread_csv\u001b[0m\u001b[0;34m(\u001b[0m\u001b[0;34m)\u001b[0m\u001b[0;34m\u001b[0m\u001b[0;34m\u001b[0m\u001b[0m\n\u001b[0m\u001b[1;32m      9\u001b[0m \u001b[0mtrainX\u001b[0m \u001b[0;34m=\u001b[0m \u001b[0midx\u001b[0m\u001b[0;34m.\u001b[0m\u001b[0mconvert_from_file\u001b[0m\u001b[0;34m(\u001b[0m\u001b[0;34m'/content/drive/MyDrive/ML/train-images.idx3-ubyte'\u001b[0m\u001b[0;34m)\u001b[0m\u001b[0;34m\u001b[0m\u001b[0;34m\u001b[0m\u001b[0m\n\u001b[1;32m     10\u001b[0m \u001b[0mtrainY\u001b[0m\u001b[0;34m=\u001b[0m \u001b[0midx\u001b[0m\u001b[0;34m.\u001b[0m\u001b[0mconvert_from_file\u001b[0m\u001b[0;34m(\u001b[0m\u001b[0;34m'/content/drive/MyDrive/ML/train-labels.idx1-ubyte'\u001b[0m\u001b[0;34m)\u001b[0m\u001b[0;34m\u001b[0m\u001b[0;34m\u001b[0m\u001b[0m\n",
            "\u001b[0;31mTypeError\u001b[0m: read_csv() missing 1 required positional argument: 'filepath_or_buffer'"
          ]
        }
      ]
    },
    {
      "cell_type": "code",
      "metadata": {
        "id": "DgPvjJytrXb8",
        "colab": {
          "base_uri": "https://localhost:8080/"
        },
        "outputId": "677cdd90-8716-41c4-aa4e-e373c6eb9d7a"
      },
      "source": [
        "trainflat= np.reshape(trainX,(trainX.shape[0],-1)).T/255\n",
        "testflat = np.reshape(testX,(testX.shape[0],-1)).T/255\n",
        "\n",
        "print(testflat.shape)\n",
        "\n"
      ],
      "execution_count": null,
      "outputs": [
        {
          "output_type": "stream",
          "text": [
            "(784, 10000)\n"
          ],
          "name": "stdout"
        }
      ]
    },
    {
      "cell_type": "code",
      "metadata": {
        "id": "cjEylFDLom1Y"
      },
      "source": [
        "def sigmoid(z):\n",
        "  a=1/(1+np.exp(-z))\n",
        "  return a"
      ],
      "execution_count": null,
      "outputs": []
    },
    {
      "cell_type": "code",
      "metadata": {
        "id": "5jfAkrV-TjmN"
      },
      "source": [
        "def Relu(z,derivative):\n",
        "  \n",
        "  if (derivative==True):\n",
        "    dz = np.array(z, copy=True)\n",
        "    dz[z<=0] = 0\n",
        "    dz[z>0] = 1\n",
        "    return dz\n",
        "\n",
        "\n",
        "  return np.maximum(0,z)\n"
      ],
      "execution_count": null,
      "outputs": []
    },
    {
      "cell_type": "code",
      "metadata": {
        "id": "ARrr4d2czopf"
      },
      "source": [
        "def initialize(n_y, n_x, n_h1,n_h2):\n",
        "    \"\"\"\n",
        "    Argument:\n",
        "    n_x -- size of the input layer\n",
        "    n_h -- size of the hidden layer\n",
        "    n_y -- size of the output layer\n",
        "    \"\"\"\n",
        "    W1=np.random.randn(n_h1, n_x)*np.sqrt(2/784)\n",
        "    b1=np.zeros((n_h1,1))\n",
        "    W2=np.random.randn(n_h2,n_h1) *np.sqrt(2/256)\n",
        "    b2 = np.zeros((n_h2, 1))\n",
        "    W3=np.random.randn(n_y,n_h2) *np.sqrt(2/64)\n",
        "    b3 = np.zeros((n_y, 1))\n",
        "    params={\n",
        "            \"W1\":W1,\n",
        "           \"b1\":b1,\n",
        "           \"W2\":W2,\n",
        "           \"b2\":b2,\n",
        "            \"W3\":W3,\n",
        "            \"b3\":b3\n",
        "            }\n",
        "    return params\n"
      ],
      "execution_count": null,
      "outputs": []
    },
    {
      "cell_type": "code",
      "metadata": {
        "id": "lTGBHtMjfseC"
      },
      "source": [
        "def initialize2(n_y, n_x, n_h1,n_h2,n_h3):\n",
        "    \"\"\"\n",
        "    Argument:\n",
        "    n_x -- size of the input layer\n",
        "    n_h -- size of the hidden layer\n",
        "    n_y -- size of the output layer\n",
        "    \"\"\"\n",
        "    W1=np.random.randn(n_h1, n_x)*np.sqrt(2/784)\n",
        "    b1=np.zeros((n_h1,1))\n",
        "    W2=np.random.randn(n_h2,n_h1) * np.sqrt(2/512)\n",
        "    b2 = np.zeros((n_h2, 1))\n",
        "    W3=np.random.randn(n_h3,n_h2) * np.sqrt(2/128)\n",
        "    b3 = np.zeros((n_h3, 1))\n",
        "    W4=np.random.randn(n_y, n_h3)*np.sqrt(2/32)\n",
        "    b4=np.zeros((n_y,1))\n",
        "    params={\n",
        "            \"W1\":W1,\n",
        "           \"b1\":b1,\n",
        "           \"W2\":W2,\n",
        "           \"b2\":b2,\n",
        "            \"W3\":W3,\n",
        "            \"b3\":b3,\n",
        "            \"W4\":W4,\n",
        "            \"b4\":b4\n",
        "            }\n",
        "    return params"
      ],
      "execution_count": null,
      "outputs": []
    },
    {
      "cell_type": "code",
      "metadata": {
        "id": "UAmi_VIjL-vA"
      },
      "source": [
        "def softmax(z):\n",
        "  t=np.exp((z-z.max()))\n",
        "  sum=np.sum(t,axis=0,keepdims=True)\n",
        "  a=t/sum\n",
        "\n",
        "  return a\n",
        "  "
      ],
      "execution_count": null,
      "outputs": []
    },
    {
      "cell_type": "code",
      "metadata": {
        "colab": {
          "base_uri": "https://localhost:8080/"
        },
        "id": "4z-HHyr1bJjM",
        "outputId": "688339b9-2dbc-4d7b-c07c-b1647b03b756"
      },
      "source": [
        "print(softmax(np.array([3,4,1,2])))"
      ],
      "execution_count": null,
      "outputs": [
        {
          "output_type": "stream",
          "text": [
            "[0.23688282 0.64391426 0.0320586  0.08714432]\n"
          ],
          "name": "stdout"
        }
      ]
    },
    {
      "cell_type": "code",
      "metadata": {
        "id": "DmLKBskoSQo3"
      },
      "source": [
        "def fwd(X,params):\n",
        "  \n",
        "  W1=params[\"W1\"]\n",
        "  b1=params[\"b1\"]\n",
        "  W2=params[\"W2\"]\n",
        "  b2=params[\"b2\"]\n",
        "  W3=params[\"W3\"]\n",
        "  b3=params[\"b3\"]\n",
        "  \n",
        "  z1 = np.dot(W1,X)+b1\n",
        "  a1=Relu(z1,derivative=False)\n",
        "  z2= np.dot(W2,a1)+b2\n",
        "  a2=sigmoid(z2)\n",
        "  z3=np.dot(W3,a2)+b3\n",
        "  a3=softmax(z3)\n",
        "\n",
        "\n",
        "  cache={\n",
        "          \"z1\":z1,\n",
        "          \"z2\":z2,\n",
        "          \"a1\":a1,\n",
        "          \"a2\":a2,\n",
        "         \"z3\":z3,\n",
        "         \"a3\":a3\n",
        "          }\n",
        "  return cache"
      ],
      "execution_count": null,
      "outputs": []
    },
    {
      "cell_type": "code",
      "metadata": {
        "id": "Q5kWWdsEZlW2"
      },
      "source": [
        "def fwd2(X,params):\n",
        "  \n",
        "  W1=params[\"W1\"]\n",
        "  b1=params[\"b1\"]\n",
        "  W2=params[\"W2\"]\n",
        "  b2=params[\"b2\"]\n",
        "  W3=params[\"W3\"]\n",
        "  b3=params[\"b3\"]\n",
        "  W4=params[\"W4\"]\n",
        "  b4=params[\"b4\"]\n",
        "  \n",
        "  z1 = np.dot(W1,X)+b1\n",
        "  a1=Relu(z1,derivative=False)\n",
        "  z2= np.dot(W2,a1)+b2\n",
        "  a2=Relu(z2,derivative=False)\n",
        "  z3=np.dot(W3,a2)+b3\n",
        "  a3=Relu(z3,derivative=False)\n",
        "  z4=np.dot(W4,a3)+b4\n",
        "  a4=softmax(z4)\n",
        "\n",
        "\n",
        "  cache={\n",
        "          \"z1\":z1,\n",
        "          \"z2\":z2,\n",
        "          \"a1\":a1,\n",
        "          \"a2\":a2,\n",
        "         \"z3\":z3,\n",
        "         \"a3\":a3,\n",
        "         \"z4\":z4,\n",
        "         \"a4\":a4\n",
        "          }\n",
        "  return cache"
      ],
      "execution_count": null,
      "outputs": []
    },
    {
      "cell_type": "code",
      "metadata": {
        "id": "xVFYpMckrfEH"
      },
      "source": [
        "def cost(a4,Y, parameters):\n",
        "\n",
        "  m=Y.shape[1]\n",
        "  loss=-np.sum(np.multiply(Y,np.log(a4+0.0000001)),axis=0,keepdims=True)\n",
        "  cos=(1/m)*np.sum(loss,axis=1)\n",
        "  cos=np.squeeze(cos)\n",
        "\n",
        "  return cos"
      ],
      "execution_count": null,
      "outputs": []
    },
    {
      "cell_type": "code",
      "metadata": {
        "id": "VwOWB3Xj4we0"
      },
      "source": [
        "def backprop(params,lr,cache,X,Y):\n",
        "  a1=cache[\"a1\"]\n",
        "  a2=cache[\"a2\"]\n",
        "  a3=cache[\"a3\"]\n",
        "\n",
        "  z1=cache[\"z1\"]\n",
        "  z2=cache[\"z2\"]\n",
        "  z3=cache[\"z3\"]\n",
        "\n",
        "  W1=params[\"W1\"]\n",
        "  W2=params[\"W2\"]\n",
        "  W3=params[\"W3\"]\n",
        "  b1=params[\"b1\"]\n",
        "  b2=params[\"b2\"]\n",
        "  b3=params[\"b3\"]\n",
        "\n",
        "  m=a2.shape[1]\n",
        "\n",
        "  dz3 = a3-Y\n",
        "  dW3 = (1/m)*np.dot(dz3,a2.T)\n",
        "  db3=  (1/m)*np.sum(dz3,axis=1,keepdims=True)\n",
        "  \n",
        "  m=a1.shape[1]\n",
        "  dz2 = np.dot(W3.T,dz3)*(a2*(1-a2))\n",
        "  dW2 = (1/m)*np.dot(dz2,a1.T)\n",
        "  db2=  (1/m)*np.sum(dz2,axis=1,keepdims=True)\n",
        "\n",
        "  m=X.shape[1]\n",
        "\n",
        "  dz1 = np.dot(W2.T,dz2)*Relu(z1,derivative=True)\n",
        "  \n",
        "  dW1 = (1/m)*np.dot(dz1,X.T)\n",
        "  db1=  (1/m)*np.sum(dz1,axis=1,keepdims=True)\n",
        "\n",
        "  W1=W1-(lr*dW1)\n",
        "  b1=b1-lr*db1\n",
        "\n",
        "  W3=W3-(lr*dW3)\n",
        "  b3=b3-lr*db3\n",
        "\n",
        "  W2=W2-(lr*dW2)\n",
        "  b2=b2-lr*db2\n",
        "  params={\n",
        "            \"W1\":W1,\n",
        "           \"b1\":b1,\n",
        "           \"W2\":W2,\n",
        "           \"b2\":b2,\n",
        "            \"W3\":W3,\n",
        "            \"b3\":b3\n",
        "            }\n",
        "  return params\n"
      ],
      "execution_count": null,
      "outputs": []
    },
    {
      "cell_type": "code",
      "metadata": {
        "id": "BkK249wLXBpP"
      },
      "source": [
        "\n",
        "def backprop2(params,lr,cache,X,Y):\n",
        "  a1=cache[\"a1\"]\n",
        "  a2=cache[\"a2\"]\n",
        "  a3=cache[\"a3\"]\n",
        "  a4=cache[\"a4\"]\n",
        "\n",
        "\n",
        "  z1=cache[\"z1\"]\n",
        "  z2=cache[\"z2\"]\n",
        "  z3=cache[\"z3\"]\n",
        "  z4=cache[\"z4\"]\n",
        "\n",
        "  W1=params[\"W1\"]\n",
        "  W2=params[\"W2\"]\n",
        "  W3=params[\"W3\"]\n",
        "  W4=params[\"W4\"]\n",
        "  b1=params[\"b1\"]\n",
        "  b2=params[\"b2\"]\n",
        "  b3=params[\"b3\"]\n",
        "  b4=params[\"b4\"]\n",
        "\n",
        "  m=a2.shape[1]\n",
        "\n",
        "  dz4 = a4-Y\n",
        "  dW4 = (1/m)*np.dot(dz4,a3.T)\n",
        "  db4=  (1/m)*np.sum(dz4,axis=1,keepdims=True)\n",
        "\n",
        "\n",
        "  dz3 = np.dot(W4.T,dz4)*Relu(z3,derivative=True)\n",
        "  dW3 = (1/m)*np.dot(dz3,a2.T)\n",
        "  db3=  (1/m)*np.sum(dz3,axis=1,keepdims=True)\n",
        "  \n",
        "\n",
        "  dz2 = np.dot(W3.T,dz3)*Relu(z2,derivative=True)\n",
        "  dW2 = (1/m)*np.dot(dz2,a1.T)\n",
        "  db2=  (1/m)*np.sum(dz2,axis=1,keepdims=True)\n",
        "\n",
        "\n",
        "\n",
        "  dz1 = np.dot(W2.T,dz2)*Relu(z1,derivative=True)\n",
        "  \n",
        "  dW1 = (1/m)*np.dot(dz1,X.T)\n",
        "  db1=  (1/m)*np.sum(dz1,axis=1,keepdims=True)\n",
        "\n",
        "  W1=W1-(lr*dW1)\n",
        "  b1=b1-lr*db1\n",
        "\n",
        "  W3=W3-(lr*dW3)\n",
        "  b3=b3-lr*db3\n",
        "\n",
        "  W2=W2-(lr*dW2)\n",
        "  b2=b2-lr*db2\n",
        "\n",
        "  W4=W4-(lr*dW4)\n",
        "  b4=b4-(lr*db4)\n",
        "\n",
        "  params={\n",
        "            \"W1\":W1,\n",
        "           \"b1\":b1,\n",
        "           \"W2\":W2,\n",
        "           \"b2\":b2,\n",
        "            \"W3\":W3,\n",
        "            \"b3\":b3,\n",
        "          \"W4\":W4,\n",
        "          \"b4\":b4\n",
        "            }\n",
        "  return params\n"
      ],
      "execution_count": null,
      "outputs": []
    },
    {
      "cell_type": "code",
      "metadata": {
        "id": "B6_q3P9UHiD-"
      },
      "source": [
        "def model(X,Y,itr,lr):\n",
        "\n",
        "\n",
        "  n_x=X.shape[0]\n",
        "  n_y=10\n",
        "  n_h1=256\n",
        "  n_h2=64\n",
        "  n_h3=32\n",
        "  costlist=[]\n",
        "  params=initialize(n_y,n_x,n_h1,n_h2)\n",
        "\n",
        "  iteration=[]\n",
        "  for i in range(itr):\n",
        "    cache=fwd(X,params)\n",
        "    cos=cost(cache[\"a3\"],Y,params)\n",
        "    params=backprop(params,lr,cache,X,Y)\n",
        "\n",
        "\n",
        "    costlist.append(cos) \n",
        "\n",
        "    iteration.append(i)\n",
        "    if(i%50==0):\n",
        "      print (\"cost after \",i,\"th iteration is\", cos)\n",
        "    '''plt.plot(iteration,costlist)\n",
        "    plt.xlabel('iteration')\n",
        "    plt.ylabel('cost')\n",
        "    plt.show()\n",
        "    plt.close()'''\n",
        "\n",
        "  \n",
        "  plot={\"c\":costlist,\n",
        "        \"i\":iteration}\n",
        "  return params,plot"
      ],
      "execution_count": null,
      "outputs": []
    },
    {
      "cell_type": "code",
      "metadata": {
        "id": "HlexdszWhCb-"
      },
      "source": [
        "def model2(X,Y,itr):\n",
        "\n",
        "\n",
        "  n_x=X.shape[0]\n",
        "  n_y=10\n",
        "  n_h1=128\n",
        "  n_h2=64\n",
        "  costlist=[]\n",
        "  params=initialize2(n_y,n_x,n_h1,n_h2)\n",
        "\n",
        "  iteration=[]\n",
        "  for i in range(itr):\n",
        "    cache=fwd2(X,params)\n",
        "    cos=cost(cache[\"a2\"],Y,params)\n",
        "    params=backprop2(params,0.001,cache,X,Y)\n",
        "\n",
        "\n",
        "    costlist.append(cos)\n",
        "\n",
        "    iteration.append(i)\n",
        "\n",
        "    plt.plot(iteration,costlist)\n",
        "    plt.xlabel('iteration')\n",
        "    plt.ylabel('cost')\n",
        "    plt.show()\n",
        "    plt.close()\n",
        "\n",
        "  plot={\"c\":costlist,\n",
        "        \"i\":iteration}\n",
        "  return params,plot"
      ],
      "execution_count": null,
      "outputs": []
    },
    {
      "cell_type": "code",
      "metadata": {
        "id": "MgCeJ6gOYlHn"
      },
      "source": [
        "def predict(X,params):\n",
        "    \n",
        "  W1=params[\"W1\"]\n",
        "  b1=params[\"b1\"]\n",
        "  W2=params[\"W2\"]\n",
        "  b2=params[\"b2\"]\n",
        "  W3=params[\"W3\"]\n",
        "  b3=params[\"b3\"]\n",
        "\n",
        "\n",
        "  z1 = np.dot(W1,X)+b1\n",
        "  a1=Relu(z1,False)\n",
        "  z2= np.dot(W2,a1)+b2\n",
        "  a2=sigmoid(z2)\n",
        "  z3=np.dot(W3,a2)+b3\n",
        "  a3=softmax(z3)\n",
        "\n",
        "  '''\n",
        "  z4=np.dot(W4,a3)+b4\n",
        "  a4=softmax(z4)\n",
        "  '''\n",
        "\n",
        "  prediction=a3\n",
        "  return prediction"
      ],
      "execution_count": null,
      "outputs": []
    },
    {
      "cell_type": "code",
      "metadata": {
        "id": "HX2nGaCYeFLI"
      },
      "source": [
        "\n",
        "def accuracy(Y,predictions):\n",
        "  pval=np.argmax(predictions,axis=0)\n",
        "  yval=np.argmax(Y,axis=0)\n",
        "  wrong_labels=np.count_nonzero((yval-pval))\n",
        "  correct_labels=yval.shape[0]-wrong_labels\n",
        "\n",
        "  accuracy=((correct_labels)/yval.shape[0])*100\n",
        "\n",
        "  cacheN={\"correct_labels\":correct_labels,\n",
        "     \"wrong_labels\":wrong_labels,\n",
        "     \"accuracy\":accuracy}\n",
        "\n",
        "  return cacheN\n",
        "  "
      ],
      "execution_count": null,
      "outputs": []
    },
    {
      "cell_type": "code",
      "metadata": {
        "colab": {
          "base_uri": "https://localhost:8080/",
          "height": 547
        },
        "id": "wuO2GIvrVRtv",
        "outputId": "ca484abb-55e8-4f2b-f730-8ef8bb10e0ea"
      },
      "source": [
        "params,plot=model(trainflat,Y,700,0.09)\n",
        "predictions_train=predict(trainflat,params)\n",
        "predictions_test=predict(testflat,params)\n",
        "\n",
        "\n",
        "plt.plot(plot[\"i\"],plot[\"c\"])\n",
        "plt.xlabel('iteration')\n",
        "plt.ylabel('cost')\n",
        "plt.show()\n",
        "print(\"train data: \",accuracy(Y,predictions_train))\n",
        "\n",
        "\n",
        "print(\"test data: \",accuracy(Y_test,predictions_test))\n",
        "\n",
        "\n"
      ],
      "execution_count": null,
      "outputs": [
        {
          "output_type": "stream",
          "text": [
            "cost after  0 th iteration is 2.574120530244661\n",
            "cost after  50 th iteration is 1.6528831433244893\n",
            "cost after  100 th iteration is 1.1311811007787744\n",
            "cost after  150 th iteration is 0.8587850585649751\n",
            "cost after  200 th iteration is 0.7044460213763724\n",
            "cost after  250 th iteration is 0.6063628611984868\n",
            "cost after  300 th iteration is 0.5389714020695806\n",
            "cost after  350 th iteration is 0.49024001631082276\n",
            "cost after  400 th iteration is 0.453635581044366\n",
            "cost after  450 th iteration is 0.4252507125990783\n",
            "cost after  500 th iteration is 0.40260762379745385\n",
            "cost after  550 th iteration is 0.38407636475985657\n",
            "cost after  600 th iteration is 0.36856373528307607\n",
            "cost after  650 th iteration is 0.35530957901957155\n"
          ],
          "name": "stdout"
        },
        {
          "output_type": "display_data",
          "data": {
            "image/png": "[encoded data removed]",
            "text/plain": [
              "<Figure size 432x288 with 1 Axes>"
            ]
          },
          "metadata": {
            "tags": [],
            "needs_background": "light"
          }
        },
        {
          "output_type": "stream",
          "text": [
            "train data:  {'correct_labels': 54504, 'wrong_labels': 5496, 'accuracy': 90.84}\n",
            "test data:  {'correct_labels': 9125, 'wrong_labels': 875, 'accuracy': 91.25}\n"
          ],
          "name": "stdout"
        }
      ]
    },
    {
      "cell_type": "code",
      "metadata": {
        "id": "oVcQEjIxJ7Jy"
      },
      "source": [
        ""
      ],
      "execution_count": null,
      "outputs": []
    }
  ]
}